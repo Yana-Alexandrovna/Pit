{
  "cells": [
    {
      "cell_type": "markdown",
      "metadata": {
        "id": "view-in-github",
        "colab_type": "text"
      },
      "source": [
        "<a href=\"https://colab.research.google.com/github/Yana-Alexandrovna/Pit/blob/main/seminar1.ipynb\" target=\"_parent\"><img src=\"https://colab.research.google.com/assets/colab-badge.svg\" alt=\"Open In Colab\"/></a>"
      ]
    },
    {
      "cell_type": "markdown",
      "id": "b88819d0",
      "metadata": {
        "id": "b88819d0"
      },
      "source": [
        "## Задание 1\n",
        "\n",
        "### 1.1 Соедините два словаря в один"
      ]
    },
    {
      "cell_type": "code",
      "execution_count": null,
      "id": "643038c6",
      "metadata": {
        "id": "643038c6"
      },
      "outputs": [],
      "source": [
        "dict1 = {'One': 1, 'Two': 2, 'Three': 3}\n",
        "dict2 = {'Four': 4, 'Five': 5, 'Six': 6}"
      ]
    },
    {
      "cell_type": "code",
      "execution_count": null,
      "id": "14cb619b",
      "metadata": {
        "id": "14cb619b",
        "outputId": "b248cc2d-fc31-44b0-e7fc-ea88dc2951ad"
      },
      "outputs": [
        {
          "data": {
            "text/plain": [
              "{'One': 1, 'Two': 2, 'Three': 3, 'Four': 4, 'Five': 5, 'Six': 6}"
            ]
          },
          "execution_count": 2,
          "metadata": {},
          "output_type": "execute_result"
        }
      ],
      "source": [
        "dict1 | dict2"
      ]
    },
    {
      "cell_type": "code",
      "execution_count": null,
      "id": "9624c5bc",
      "metadata": {
        "id": "9624c5bc"
      },
      "outputs": [],
      "source": [
        "dict1.update(dict2)"
      ]
    },
    {
      "cell_type": "code",
      "execution_count": null,
      "id": "3c60c565",
      "metadata": {
        "id": "3c60c565",
        "outputId": "5d2fc61f-f0e7-4a6d-c637-b2c9f5c600ff"
      },
      "outputs": [
        {
          "data": {
            "text/plain": [
              "{'One': 1, 'Two': 2, 'Three': 3, 'Four': 4, 'Five': 5, 'Six': 6}"
            ]
          },
          "execution_count": 4,
          "metadata": {},
          "output_type": "execute_result"
        }
      ],
      "source": [
        "dict1"
      ]
    },
    {
      "cell_type": "markdown",
      "id": "95b127c9",
      "metadata": {
        "id": "95b127c9"
      },
      "source": [
        "### 1.2 Напишите функцию, которая на вход принимает два словаря и возвращает один объединенный словарь"
      ]
    },
    {
      "cell_type": "code",
      "execution_count": null,
      "id": "1976fc85",
      "metadata": {
        "id": "1976fc85"
      },
      "outputs": [],
      "source": [
        "dict1 = {'One': 1, 'Two': 2, 'Three': 3}\n",
        "dict2 = {'Four': 4, 'Five': 5, 'Six': 6}"
      ]
    },
    {
      "cell_type": "code",
      "execution_count": null,
      "id": "5d01ad92",
      "metadata": {
        "id": "5d01ad92"
      },
      "outputs": [],
      "source": [
        "def update_dict(d1:dict, d2:dict) -> dict:\n",
        "    return d1 | d2"
      ]
    },
    {
      "cell_type": "code",
      "execution_count": null,
      "id": "1a18cfeb",
      "metadata": {
        "id": "1a18cfeb",
        "outputId": "8c743604-1c7c-40c1-9627-555b8c223b8e"
      },
      "outputs": [
        {
          "name": "stdout",
          "output_type": "stream",
          "text": [
            "{'One': 1, 'Two': 2, 'Three': 3, 'Four': 4, 'Five': 5, 'Six': 6}\n"
          ]
        }
      ],
      "source": [
        "print(update_dict(dict1, dict2))"
      ]
    },
    {
      "cell_type": "markdown",
      "id": "1622dbcd",
      "metadata": {
        "id": "1622dbcd"
      },
      "source": [
        "## Задание 2\n",
        "\n",
        "Напишите функцию, которая из двух списков, делает один словарь, где элементы из первого списка - ключи, а элементы из второго списка - значения\n",
        "\n",
        "\n",
        "Используйте аннотирование типов\n",
        "\n",
        "### 2.1 Используя цикл for"
      ]
    },
    {
      "cell_type": "code",
      "execution_count": null,
      "id": "497896e9",
      "metadata": {
        "id": "497896e9"
      },
      "outputs": [],
      "source": [
        "keys = ['Ones', 'Two', 'Three']\n",
        "values = [1, 2, 3]"
      ]
    },
    {
      "cell_type": "markdown",
      "id": "0183ec1c",
      "metadata": {
        "id": "0183ec1c"
      },
      "source": [
        "словарь[ключ] = значение"
      ]
    },
    {
      "cell_type": "code",
      "execution_count": null,
      "id": "eee603e8",
      "metadata": {
        "id": "eee603e8"
      },
      "outputs": [],
      "source": [
        "def make_dict(d1:list, d2:list) -> dict:\n",
        "    new_dict = {}\n",
        "    for i in range(len(d1)):\n",
        "        new_dict[d1[i]] = d2[i]\n",
        "    return new_dict"
      ]
    },
    {
      "cell_type": "code",
      "execution_count": null,
      "id": "67af5600",
      "metadata": {
        "id": "67af5600",
        "outputId": "98eb4227-42ec-4684-e30a-0b0833f506ce"
      },
      "outputs": [
        {
          "data": {
            "text/plain": [
              "{'Ones': 1, 'Two': 2, 'Three': 3}"
            ]
          },
          "execution_count": 10,
          "metadata": {},
          "output_type": "execute_result"
        }
      ],
      "source": [
        "make_dict(keys, values)"
      ]
    },
    {
      "cell_type": "markdown",
      "id": "5b254d4e",
      "metadata": {
        "id": "5b254d4e"
      },
      "source": [
        "### 2.2 Используя dict comprehensions"
      ]
    },
    {
      "cell_type": "code",
      "execution_count": null,
      "id": "a9a2d25b",
      "metadata": {
        "id": "a9a2d25b"
      },
      "outputs": [],
      "source": [
        "def make_dict2(d1:list, d2:list) -> dict:\n",
        "    return {d1[i]: d2[i] for i in range(len(d1))}"
      ]
    },
    {
      "cell_type": "code",
      "execution_count": null,
      "id": "9e5c194a",
      "metadata": {
        "id": "9e5c194a",
        "outputId": "88d03e77-c70c-4e91-a4fd-08f56c35e233"
      },
      "outputs": [
        {
          "data": {
            "text/plain": [
              "{'Ones': 1, 'Two': 2, 'Three': 3}"
            ]
          },
          "execution_count": 12,
          "metadata": {},
          "output_type": "execute_result"
        }
      ],
      "source": [
        "make_dict2(keys, values)"
      ]
    },
    {
      "cell_type": "code",
      "execution_count": null,
      "id": "a5e5ac4f",
      "metadata": {
        "id": "a5e5ac4f"
      },
      "outputs": [],
      "source": [
        "dict_3 = {keys[i]: values[i] for i in range(len(keys))}"
      ]
    },
    {
      "cell_type": "code",
      "execution_count": null,
      "id": "9407eeab",
      "metadata": {
        "id": "9407eeab",
        "outputId": "26dcb3b4-f554-430e-c6fe-4a66e9af8c59"
      },
      "outputs": [
        {
          "data": {
            "text/plain": [
              "{'Ones': 1, 'Two': 2, 'Three': 3}"
            ]
          },
          "execution_count": 14,
          "metadata": {},
          "output_type": "execute_result"
        }
      ],
      "source": [
        "dict_3"
      ]
    },
    {
      "cell_type": "markdown",
      "id": "b66084f5",
      "metadata": {
        "id": "b66084f5"
      },
      "source": [
        "Еще способ: через zip"
      ]
    },
    {
      "cell_type": "code",
      "execution_count": null,
      "id": "014861c2",
      "metadata": {
        "id": "014861c2"
      },
      "outputs": [],
      "source": [
        "dict3 = dict(zip(keys, values))"
      ]
    },
    {
      "cell_type": "code",
      "execution_count": null,
      "id": "a946eff3",
      "metadata": {
        "id": "a946eff3",
        "outputId": "e56cb861-e34b-4b02-b2ec-e372981e7e49"
      },
      "outputs": [
        {
          "data": {
            "text/plain": [
              "{'Ones': 1, 'Two': 2, 'Three': 3}"
            ]
          },
          "execution_count": 16,
          "metadata": {},
          "output_type": "execute_result"
        }
      ],
      "source": [
        "dict3"
      ]
    },
    {
      "cell_type": "markdown",
      "id": "682ddfb3",
      "metadata": {
        "id": "682ddfb3"
      },
      "source": [
        "## Задание 3\n",
        "\n",
        "Извлеките только два ключа name и age из представленного словаря\n",
        "\n",
        "### 3.1 Напишите функцию с циклом for\n",
        "Функция на вход принимает:\n",
        "* исходный словарь\n",
        "* ключи, которые нужно извлечь (аргумент по умолчанию)\n",
        "\n",
        "На выходе словарь с нужными ключами\n",
        "\n",
        "Используйте аннотирование типов\n"
      ]
    },
    {
      "cell_type": "code",
      "execution_count": null,
      "id": "de428331",
      "metadata": {
        "id": "de428331"
      },
      "outputs": [],
      "source": [
        "client_dict = {\n",
        "    \"name\": \"John\",\n",
        "    \"age\": 25,\n",
        "    \"salary\": 500000,\n",
        "    \"city\": \"Moscow\"\n",
        "}"
      ]
    },
    {
      "cell_type": "code",
      "execution_count": null,
      "id": "22e3c8c8",
      "metadata": {
        "id": "22e3c8c8"
      },
      "outputs": [],
      "source": [
        "keys = [\"name\", \"age\"]"
      ]
    },
    {
      "cell_type": "code",
      "execution_count": null,
      "id": "5e3a8473",
      "metadata": {
        "id": "5e3a8473"
      },
      "outputs": [],
      "source": [
        "def get_keys(dictionary: dict, keys: list) -> dict:\n",
        "    my_dict = {}\n",
        "    for key in keys:\n",
        "        my_dict[key] = dictionary[key]\n",
        "    return my_dict"
      ]
    },
    {
      "cell_type": "code",
      "execution_count": null,
      "id": "051f1dd1",
      "metadata": {
        "id": "051f1dd1",
        "outputId": "84a181b5-059f-40dd-f3dc-d388151a0b9e"
      },
      "outputs": [
        {
          "data": {
            "text/plain": [
              "{'name': 'John', 'age': 25}"
            ]
          },
          "execution_count": 20,
          "metadata": {},
          "output_type": "execute_result"
        }
      ],
      "source": [
        "get_keys(client_dict, keys)"
      ]
    },
    {
      "cell_type": "markdown",
      "id": "74fba282",
      "metadata": {
        "id": "74fba282"
      },
      "source": [
        "### 3.2 Используя dict comprehensions"
      ]
    },
    {
      "cell_type": "code",
      "execution_count": null,
      "id": "a9891ff6",
      "metadata": {
        "id": "a9891ff6"
      },
      "outputs": [],
      "source": [
        "client_dict = {\n",
        "    \"name\": \"John\",\n",
        "    \"age\": 25,\n",
        "    \"salary\": 500000,\n",
        "    \"city\": \"Moscow\"\n",
        "}"
      ]
    },
    {
      "cell_type": "code",
      "execution_count": null,
      "id": "83e56526",
      "metadata": {
        "id": "83e56526"
      },
      "outputs": [],
      "source": [
        "my_keys = [\"name\", \"age\"]"
      ]
    },
    {
      "cell_type": "markdown",
      "id": "288f2a50",
      "metadata": {
        "id": "288f2a50"
      },
      "source": [
        "{ключ: значение и откуда берем ключи и значения}"
      ]
    },
    {
      "cell_type": "markdown",
      "id": "c7a96153",
      "metadata": {
        "id": "c7a96153"
      },
      "source": [
        "имя_словаря[ключ] = значение"
      ]
    },
    {
      "cell_type": "code",
      "execution_count": null,
      "id": "f5ef5991",
      "metadata": {
        "id": "f5ef5991"
      },
      "outputs": [],
      "source": [
        "my_dict = {k: client_dict[k] for k in my_keys}"
      ]
    },
    {
      "cell_type": "code",
      "execution_count": null,
      "id": "1a8d7a56",
      "metadata": {
        "id": "1a8d7a56",
        "outputId": "96549e43-33d0-46b4-dc64-d069efc7c25e"
      },
      "outputs": [
        {
          "data": {
            "text/plain": [
              "{'name': 'John', 'age': 25}"
            ]
          },
          "execution_count": 24,
          "metadata": {},
          "output_type": "execute_result"
        }
      ],
      "source": [
        "my_dict"
      ]
    },
    {
      "cell_type": "code",
      "execution_count": null,
      "id": "16096287",
      "metadata": {
        "id": "16096287"
      },
      "outputs": [],
      "source": [
        "def get_keys_2(dictionary, keys=[\"name\", \"age\"]):\n",
        "    return {key: dictionary[key] for key in keys}"
      ]
    },
    {
      "cell_type": "code",
      "execution_count": null,
      "id": "c4628291",
      "metadata": {
        "id": "c4628291",
        "outputId": "fc884ab9-42c3-48b3-86ca-f2927a87ad6b"
      },
      "outputs": [
        {
          "data": {
            "text/plain": [
              "{'name': 'John', 'age': 25}"
            ]
          },
          "execution_count": 26,
          "metadata": {},
          "output_type": "execute_result"
        }
      ],
      "source": [
        "get_keys_2(client_dict, keys)"
      ]
    },
    {
      "cell_type": "markdown",
      "id": "1d620f17",
      "metadata": {
        "id": "1d620f17"
      },
      "source": [
        "## Задание 4\n",
        "\n",
        "### 4.1 Сгенерируйте случайные целые числа от 0 до 100 в количестве 5 штук с помощью модуля random\n",
        "* Зафиксируйте псевдогенерацию, чтобы сгенерированные значения всегда были одинаковые\n",
        "* Используйте list comprehensions"
      ]
    },
    {
      "cell_type": "code",
      "execution_count": null,
      "id": "626bc3c6",
      "metadata": {
        "id": "626bc3c6"
      },
      "outputs": [],
      "source": [
        "from random import randint, seed"
      ]
    },
    {
      "cell_type": "code",
      "execution_count": null,
      "id": "a93a2168",
      "metadata": {
        "id": "a93a2168"
      },
      "outputs": [],
      "source": [
        "seed(42)\n",
        "data = [randint(0, 100) for i in range(5)]"
      ]
    },
    {
      "cell_type": "code",
      "execution_count": null,
      "id": "019037ee",
      "metadata": {
        "id": "019037ee",
        "outputId": "30c3daee-6d8f-4a13-d32e-ddc2d18a3256"
      },
      "outputs": [
        {
          "data": {
            "text/plain": [
              "[81, 14, 3, 94, 35]"
            ]
          },
          "execution_count": 29,
          "metadata": {},
          "output_type": "execute_result"
        }
      ],
      "source": [
        "data"
      ]
    },
    {
      "cell_type": "markdown",
      "id": "bad41195",
      "metadata": {
        "id": "bad41195"
      },
      "source": [
        "### 4.2 Напишите генератор\n",
        "* Генератор на вход принимает список с данными о клиенте (данные из пункта 4.1)\n",
        "* Внутри генератора реализуйте обход по списку с данными\n",
        "\n",
        "На каждой итерации генератор будет возвращать кортеж из двух элементов:\n",
        "1. данные по клиенту (в зависимости от итерации, на 0 итерации вернется 0 элемент, на 1 итерации вернется 1 элемент и тд)\n",
        "2. целочисленное значение, которое показывает, сколько секунд прошло с предыдущей итерации\n",
        "\n",
        "Примечание: секунды, которые возвращаются должны показывать время не с начала запуска генератора, а именно то время, которое прошло с предыдущей итерации. А значит время на первой итерации должно равняться 0.\n",
        "* Используйте функцию time из модуля time для подсчета времени.\n",
        "* Чтобы проверить работу таймера, запустите проход по генератору в цикле с time.sleep(2)"
      ]
    },
    {
      "cell_type": "code",
      "execution_count": null,
      "id": "23411f55",
      "metadata": {
        "id": "23411f55"
      },
      "outputs": [],
      "source": [
        "import time\n",
        "import random"
      ]
    },
    {
      "cell_type": "code",
      "execution_count": null,
      "id": "476e28ad",
      "metadata": {
        "id": "476e28ad"
      },
      "outputs": [],
      "source": [
        "def simple_time_generator(data: list):\n",
        "    for item in data:\n",
        "        start_time = time.time()\n",
        "        time.sleep(2)\n",
        "        current_time = time.time()\n",
        "        delta = current_time - start_time\n",
        "        yield(delta, item)"
      ]
    },
    {
      "cell_type": "code",
      "execution_count": null,
      "id": "37c951bc",
      "metadata": {
        "colab": {
          "base_uri": "https://localhost:8080/",
          "height": 183
        },
        "id": "37c951bc",
        "outputId": "93aa996f-935d-4a48-a2bd-9780ce338683"
      },
      "outputs": [
        {
          "output_type": "error",
          "ename": "NameError",
          "evalue": "ignored",
          "traceback": [
            "\u001b[0;31m---------------------------------------------------------------------------\u001b[0m",
            "\u001b[0;31mNameError\u001b[0m                                 Traceback (most recent call last)",
            "\u001b[0;32m<ipython-input-3-769f64bb004c>\u001b[0m in \u001b[0;36m<cell line: 1>\u001b[0;34m()\u001b[0m\n\u001b[0;32m----> 1\u001b[0;31m \u001b[0;32mfor\u001b[0m \u001b[0mobj\u001b[0m \u001b[0;32min\u001b[0m \u001b[0msimple_time_generator\u001b[0m\u001b[0;34m(\u001b[0m\u001b[0mdata\u001b[0m\u001b[0;34m)\u001b[0m\u001b[0;34m:\u001b[0m\u001b[0;34m\u001b[0m\u001b[0;34m\u001b[0m\u001b[0m\n\u001b[0m\u001b[1;32m      2\u001b[0m     \u001b[0mprint\u001b[0m\u001b[0;34m(\u001b[0m\u001b[0mobj\u001b[0m\u001b[0;34m)\u001b[0m\u001b[0;34m\u001b[0m\u001b[0;34m\u001b[0m\u001b[0m\n",
            "\u001b[0;31mNameError\u001b[0m: name 'data' is not defined"
          ]
        }
      ],
      "source": [
        "for obj in simple_time_generator(data):\n",
        "    print(obj)"
      ]
    },
    {
      "cell_type": "code",
      "execution_count": null,
      "id": "81e6d4d5",
      "metadata": {
        "id": "81e6d4d5"
      },
      "outputs": [],
      "source": [
        "def generator(data: list):\n",
        "    last_time = None\n",
        "    for item in data:\n",
        "        current_time = time.time()\n",
        "        if last_time:\n",
        "            delta = current_time - last_time\n",
        "        else:\n",
        "            delta = 0\n",
        "        last_time = time.time()\n",
        "        yield(delta, item)"
      ]
    },
    {
      "cell_type": "code",
      "execution_count": null,
      "id": "db5eb4ca",
      "metadata": {
        "id": "db5eb4ca",
        "outputId": "aafef127-c816-41b6-8374-157f0db0616d"
      },
      "outputs": [
        {
          "name": "stdout",
          "output_type": "stream",
          "text": [
            "(0, 81)\n",
            "(2.010883331298828, 14)\n",
            "(2.0115416049957275, 3)\n",
            "(2.0145819187164307, 94)\n",
            "(2.001953363418579, 35)\n"
          ]
        }
      ],
      "source": [
        "for obj in generator(data):\n",
        "    print(obj)\n",
        "    time.sleep(2)"
      ]
    },
    {
      "cell_type": "code",
      "execution_count": null,
      "id": "91129483",
      "metadata": {
        "id": "91129483"
      },
      "outputs": [],
      "source": [
        "gener = (item for item in data)"
      ]
    },
    {
      "cell_type": "code",
      "execution_count": null,
      "id": "ec698417",
      "metadata": {
        "id": "ec698417",
        "outputId": "bd2407fb-daab-4c1a-b86b-702312b9fe2d"
      },
      "outputs": [
        {
          "name": "stdout",
          "output_type": "stream",
          "text": [
            "81 14 3 94 35\n"
          ]
        }
      ],
      "source": [
        "print(*gener)"
      ]
    },
    {
      "cell_type": "markdown",
      "id": "00f03753",
      "metadata": {
        "id": "00f03753"
      },
      "source": [
        "## Задание 5\n",
        "### 5.1 Найдите картинку в интернете и прикрепите её в ячейку с текстом"
      ]
    },
    {
      "cell_type": "markdown",
      "id": "643f5d7e",
      "metadata": {
        "id": "643f5d7e"
      },
      "source": [
        "Картинка в тексте <img src=http://file.elecfans.com/web1/M00/85/39/pIYBAFxjgHKAHGRKAAGCvIQmljc250.png>"
      ]
    },
    {
      "cell_type": "markdown",
      "id": "ffaf988a",
      "metadata": {
        "id": "ffaf988a"
      },
      "source": [
        "### 5.2 Создайте следующую таблицу в ячейке с текстом"
      ]
    },
    {
      "cell_type": "markdown",
      "id": "917df0ba",
      "metadata": {
        "id": "917df0ba"
      },
      "source": [
        "![%D0%A2%D0%B0%D0%B1%D0%BB%D0%B8%D1%86%D0%B0.png](attachment:%D0%A2%D0%B0%D0%B1%D0%BB%D0%B8%D1%86%D0%B0.png)"
      ]
    },
    {
      "cell_type": "markdown",
      "id": "9ce52994",
      "metadata": {
        "id": "9ce52994"
      },
      "source": [
        "<table>\n",
        "    <tr>\n",
        "        <th></th>\n",
        "        <th>До события</th>\n",
        "        <th>Время события</th>\n",
        "    </tr>\n",
        "    <tr>\n",
        "        <td><b>1 контрольная точка</b></td><td>250</td><td>500</td>\n",
        "    </tr>\n",
        "    <tr>\n",
        "        <td><b>2 контрольная точка</b></td><td>350</td><td>700</td>\n",
        "    </tr>\n",
        "    <tr>\n",
        "        <td><b>3 контрольная точка</b></td><td>400</td><td>800</td>\n",
        "    </tr>\n",
        "    <tr>\n",
        "        <td></td><td></td><td></td>\n",
        "    </tr>\n",
        "    <tr>\n",
        "        <td><b>Итого за победу</b></td><td>1000</td><td>2000</td>\n",
        "    </tr>\n",
        "</table>"
      ]
    },
    {
      "cell_type": "markdown",
      "id": "5060ff2d",
      "metadata": {
        "id": "5060ff2d"
      },
      "source": [
        "## Задание 6\n",
        "### Напишите функцию, которая может принимать любое количество трат пользователя и считать сумму и среднее.\n",
        "* На вход поступают целочисленные значения в любом количестве\n",
        "* На выходе словарь с ключами суммы трат и средней траты\n"
      ]
    },
    {
      "cell_type": "code",
      "execution_count": null,
      "id": "f5a3a3fa",
      "metadata": {
        "id": "f5a3a3fa"
      },
      "outputs": [],
      "source": [
        "def sum_and_mean(*args):\n",
        "    return {\n",
        "        \"sum\": sum(args),\n",
        "        \"mean\": sum(args)/len(args)\n",
        "    }"
      ]
    },
    {
      "cell_type": "code",
      "execution_count": null,
      "id": "f53c4789",
      "metadata": {
        "id": "f53c4789",
        "outputId": "e35f7ac5-8eb8-47d6-bd8c-2604270eef6b"
      },
      "outputs": [
        {
          "data": {
            "text/plain": [
              "{'sum': 80, 'mean': 20.0}"
            ]
          },
          "execution_count": 38,
          "metadata": {},
          "output_type": "execute_result"
        }
      ],
      "source": [
        "sum_and_mean(5, 10, 15, 50)"
      ]
    },
    {
      "cell_type": "code",
      "execution_count": null,
      "id": "7f81ff79",
      "metadata": {
        "id": "7f81ff79"
      },
      "outputs": [],
      "source": [
        "def sum_and_mean_2(*args):\n",
        "    summa = 0\n",
        "    num = 0\n",
        "    for el in args:\n",
        "        summa += el\n",
        "        num += 1\n",
        "    return {\n",
        "        \"sum\": summa,\n",
        "        \"mean\": summa/num\n",
        "    }"
      ]
    },
    {
      "cell_type": "code",
      "execution_count": null,
      "id": "7b61af35",
      "metadata": {
        "id": "7b61af35",
        "outputId": "26414838-6d1c-43bf-81e0-1015af27d652"
      },
      "outputs": [
        {
          "data": {
            "text/plain": [
              "{'sum': 30, 'mean': 10.0}"
            ]
          },
          "execution_count": 40,
          "metadata": {},
          "output_type": "execute_result"
        }
      ],
      "source": [
        "sum_and_mean_2(5, 10, 15)"
      ]
    },
    {
      "cell_type": "code",
      "execution_count": null,
      "id": "a736db14",
      "metadata": {
        "id": "a736db14"
      },
      "outputs": [],
      "source": []
    },
    {
      "cell_type": "code",
      "execution_count": null,
      "id": "161ab6e3",
      "metadata": {
        "id": "161ab6e3"
      },
      "outputs": [],
      "source": []
    },
    {
      "cell_type": "code",
      "execution_count": null,
      "id": "2a7a82dd",
      "metadata": {
        "id": "2a7a82dd"
      },
      "outputs": [],
      "source": []
    },
    {
      "cell_type": "code",
      "execution_count": null,
      "id": "1042c8c9",
      "metadata": {
        "id": "1042c8c9"
      },
      "outputs": [],
      "source": []
    },
    {
      "cell_type": "code",
      "execution_count": null,
      "id": "a240e385",
      "metadata": {
        "id": "a240e385"
      },
      "outputs": [],
      "source": [
        "list_dates = ['2021-09-14', '2021-12-15', '2021-09-08', '2021-12-05', '2021-10-09', '2021-09-30', '2021-12-22', '2021-11-29', '2021-12-24', '2021-11-26', '2021-10-27', '2021-12-18', '2021-11-09', '2021-11-23', '2021-09-27', '2021-10-02', '2021-12-27', '2021-09-20', '2021-12-13', '2021-11-01', '2021-11-09', '2021-12-06', '2021-12-08', '2021-10-09', '2021-10-31', '2021-09-30', '2021-11-09', '2021-12-13', '2021-10-26', '2021-12-09']\n"
      ]
    },
    {
      "cell_type": "code",
      "execution_count": null,
      "id": "791357fb",
      "metadata": {
        "id": "791357fb"
      },
      "outputs": [],
      "source": [
        "my_str = '2021-11-14'"
      ]
    },
    {
      "cell_type": "code",
      "execution_count": null,
      "id": "6c132872",
      "metadata": {
        "id": "6c132872",
        "outputId": "de8a9bd7-03e9-41df-c2a9-1c9d65360709"
      },
      "outputs": [
        {
          "data": {
            "text/plain": [
              "['2021', '11', '14']"
            ]
          },
          "execution_count": 48,
          "metadata": {},
          "output_type": "execute_result"
        }
      ],
      "source": [
        "my_str.split('-')"
      ]
    },
    {
      "cell_type": "code",
      "execution_count": null,
      "id": "bada1bfc",
      "metadata": {
        "id": "bada1bfc",
        "outputId": "870a3727-7efb-4d54-87a6-357a50418c10"
      },
      "outputs": [
        {
          "data": {
            "text/plain": [
              "'11'"
            ]
          },
          "execution_count": 44,
          "metadata": {},
          "output_type": "execute_result"
        }
      ],
      "source": [
        "my_str[5:7]"
      ]
    },
    {
      "cell_type": "code",
      "execution_count": null,
      "id": "307e0faa",
      "metadata": {
        "id": "307e0faa"
      },
      "outputs": [],
      "source": [
        "year, month, day = my_str.split('-')"
      ]
    },
    {
      "cell_type": "code",
      "execution_count": null,
      "id": "7c17ad29",
      "metadata": {
        "id": "7c17ad29",
        "outputId": "38886d38-09c7-4371-e5b5-9e0b73e077c4"
      },
      "outputs": [
        {
          "data": {
            "text/plain": [
              "'2021'"
            ]
          },
          "execution_count": 50,
          "metadata": {},
          "output_type": "execute_result"
        }
      ],
      "source": [
        "year"
      ]
    },
    {
      "cell_type": "code",
      "execution_count": null,
      "id": "af21d02c",
      "metadata": {
        "id": "af21d02c",
        "outputId": "d1d8707e-15e4-4319-8c73-bce8705d1b7b"
      },
      "outputs": [
        {
          "data": {
            "text/plain": [
              "'11'"
            ]
          },
          "execution_count": 51,
          "metadata": {},
          "output_type": "execute_result"
        }
      ],
      "source": [
        "month"
      ]
    },
    {
      "cell_type": "code",
      "execution_count": null,
      "id": "bbaec416",
      "metadata": {
        "id": "bbaec416",
        "outputId": "28212631-6061-4549-970f-379bbf196a62"
      },
      "outputs": [
        {
          "data": {
            "text/plain": [
              "'14'"
            ]
          },
          "execution_count": 52,
          "metadata": {},
          "output_type": "execute_result"
        }
      ],
      "source": [
        "day"
      ]
    },
    {
      "cell_type": "code",
      "execution_count": null,
      "id": "b82d7709",
      "metadata": {
        "id": "b82d7709"
      },
      "outputs": [],
      "source": [
        "_, month, _ = my_str.split('-')"
      ]
    },
    {
      "cell_type": "code",
      "execution_count": null,
      "id": "a5c78604",
      "metadata": {
        "id": "a5c78604",
        "outputId": "fb7267c0-e879-4712-9e98-23e733eccdcb"
      },
      "outputs": [
        {
          "data": {
            "text/plain": [
              "'11'"
            ]
          },
          "execution_count": 54,
          "metadata": {},
          "output_type": "execute_result"
        }
      ],
      "source": [
        "month"
      ]
    }
  ],
  "metadata": {
    "kernelspec": {
      "display_name": "Python 3 (ipykernel)",
      "language": "python",
      "name": "python3"
    },
    "language_info": {
      "codemirror_mode": {
        "name": "ipython",
        "version": 3
      },
      "file_extension": ".py",
      "mimetype": "text/x-python",
      "name": "python",
      "nbconvert_exporter": "python",
      "pygments_lexer": "ipython3",
      "version": "3.9.13"
    },
    "colab": {
      "provenance": [],
      "include_colab_link": true
    }
  },
  "nbformat": 4,
  "nbformat_minor": 5
}